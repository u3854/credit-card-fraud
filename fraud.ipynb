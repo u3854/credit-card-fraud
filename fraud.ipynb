{
 "cells": [
  {
   "cell_type": "code",
   "execution_count": 39,
   "metadata": {},
   "outputs": [],
   "source": [
    "import numpy as np\n",
    "import pandas as pd\n",
    "import matplotlib.pyplot as plt\n",
    "import seaborn as sns\n",
    "\n",
    "from sklearn.model_selection import GridSearchCV\n",
    "from sklearn.metrics import classification_report, ConfusionMatrixDisplay, roc_auc_score, average_precision_score"
   ]
  },
  {
   "cell_type": "code",
   "execution_count": 2,
   "metadata": {},
   "outputs": [],
   "source": [
    "import warnings\n",
    "warnings.filterwarnings('ignore')"
   ]
  },
  {
   "cell_type": "code",
   "execution_count": 3,
   "metadata": {},
   "outputs": [],
   "source": [
    "df = pd.read_csv('creditcard.csv')"
   ]
  },
  {
   "cell_type": "code",
   "execution_count": 4,
   "metadata": {},
   "outputs": [
    {
     "name": "stdout",
     "output_type": "stream",
     "text": [
      "<class 'pandas.core.frame.DataFrame'>\n",
      "RangeIndex: 284807 entries, 0 to 284806\n",
      "Data columns (total 31 columns):\n",
      " #   Column  Non-Null Count   Dtype  \n",
      "---  ------  --------------   -----  \n",
      " 0   Time    284807 non-null  float64\n",
      " 1   V1      284807 non-null  float64\n",
      " 2   V2      284807 non-null  float64\n",
      " 3   V3      284807 non-null  float64\n",
      " 4   V4      284807 non-null  float64\n",
      " 5   V5      284807 non-null  float64\n",
      " 6   V6      284807 non-null  float64\n",
      " 7   V7      284807 non-null  float64\n",
      " 8   V8      284807 non-null  float64\n",
      " 9   V9      284807 non-null  float64\n",
      " 10  V10     284807 non-null  float64\n",
      " 11  V11     284807 non-null  float64\n",
      " 12  V12     284807 non-null  float64\n",
      " 13  V13     284807 non-null  float64\n",
      " 14  V14     284807 non-null  float64\n",
      " 15  V15     284807 non-null  float64\n",
      " 16  V16     284807 non-null  float64\n",
      " 17  V17     284807 non-null  float64\n",
      " 18  V18     284807 non-null  float64\n",
      " 19  V19     284807 non-null  float64\n",
      " 20  V20     284807 non-null  float64\n",
      " 21  V21     284807 non-null  float64\n",
      " 22  V22     284807 non-null  float64\n",
      " 23  V23     284807 non-null  float64\n",
      " 24  V24     284807 non-null  float64\n",
      " 25  V25     284807 non-null  float64\n",
      " 26  V26     284807 non-null  float64\n",
      " 27  V27     284807 non-null  float64\n",
      " 28  V28     284807 non-null  float64\n",
      " 29  Amount  284807 non-null  float64\n",
      " 30  Class   284807 non-null  int64  \n",
      "dtypes: float64(30), int64(1)\n",
      "memory usage: 67.4 MB\n"
     ]
    }
   ],
   "source": [
    "df.info()"
   ]
  },
  {
   "cell_type": "code",
   "execution_count": 5,
   "metadata": {},
   "outputs": [
    {
     "data": {
      "text/plain": [
       "1081"
      ]
     },
     "execution_count": 5,
     "metadata": {},
     "output_type": "execute_result"
    }
   ],
   "source": [
    "df.duplicated().sum()"
   ]
  },
  {
   "cell_type": "code",
   "execution_count": 6,
   "metadata": {},
   "outputs": [],
   "source": [
    "df = df.drop_duplicates()"
   ]
  },
  {
   "cell_type": "code",
   "execution_count": 7,
   "metadata": {},
   "outputs": [
    {
     "data": {
      "text/html": [
       "<div>\n",
       "<style scoped>\n",
       "    .dataframe tbody tr th:only-of-type {\n",
       "        vertical-align: middle;\n",
       "    }\n",
       "\n",
       "    .dataframe tbody tr th {\n",
       "        vertical-align: top;\n",
       "    }\n",
       "\n",
       "    .dataframe thead th {\n",
       "        text-align: right;\n",
       "    }\n",
       "</style>\n",
       "<table border=\"1\" class=\"dataframe\">\n",
       "  <thead>\n",
       "    <tr style=\"text-align: right;\">\n",
       "      <th></th>\n",
       "      <th>Time</th>\n",
       "      <th>V1</th>\n",
       "      <th>V2</th>\n",
       "      <th>V3</th>\n",
       "      <th>V4</th>\n",
       "      <th>V5</th>\n",
       "      <th>V6</th>\n",
       "      <th>V7</th>\n",
       "      <th>V8</th>\n",
       "      <th>V9</th>\n",
       "      <th>...</th>\n",
       "      <th>V21</th>\n",
       "      <th>V22</th>\n",
       "      <th>V23</th>\n",
       "      <th>V24</th>\n",
       "      <th>V25</th>\n",
       "      <th>V26</th>\n",
       "      <th>V27</th>\n",
       "      <th>V28</th>\n",
       "      <th>Amount</th>\n",
       "      <th>Class</th>\n",
       "    </tr>\n",
       "  </thead>\n",
       "  <tbody>\n",
       "    <tr>\n",
       "      <th>0</th>\n",
       "      <td>0.0</td>\n",
       "      <td>-1.359807</td>\n",
       "      <td>-0.072781</td>\n",
       "      <td>2.536347</td>\n",
       "      <td>1.378155</td>\n",
       "      <td>-0.338321</td>\n",
       "      <td>0.462388</td>\n",
       "      <td>0.239599</td>\n",
       "      <td>0.098698</td>\n",
       "      <td>0.363787</td>\n",
       "      <td>...</td>\n",
       "      <td>-0.018307</td>\n",
       "      <td>0.277838</td>\n",
       "      <td>-0.110474</td>\n",
       "      <td>0.066928</td>\n",
       "      <td>0.128539</td>\n",
       "      <td>-0.189115</td>\n",
       "      <td>0.133558</td>\n",
       "      <td>-0.021053</td>\n",
       "      <td>149.62</td>\n",
       "      <td>0</td>\n",
       "    </tr>\n",
       "    <tr>\n",
       "      <th>1</th>\n",
       "      <td>0.0</td>\n",
       "      <td>1.191857</td>\n",
       "      <td>0.266151</td>\n",
       "      <td>0.166480</td>\n",
       "      <td>0.448154</td>\n",
       "      <td>0.060018</td>\n",
       "      <td>-0.082361</td>\n",
       "      <td>-0.078803</td>\n",
       "      <td>0.085102</td>\n",
       "      <td>-0.255425</td>\n",
       "      <td>...</td>\n",
       "      <td>-0.225775</td>\n",
       "      <td>-0.638672</td>\n",
       "      <td>0.101288</td>\n",
       "      <td>-0.339846</td>\n",
       "      <td>0.167170</td>\n",
       "      <td>0.125895</td>\n",
       "      <td>-0.008983</td>\n",
       "      <td>0.014724</td>\n",
       "      <td>2.69</td>\n",
       "      <td>0</td>\n",
       "    </tr>\n",
       "    <tr>\n",
       "      <th>2</th>\n",
       "      <td>1.0</td>\n",
       "      <td>-1.358354</td>\n",
       "      <td>-1.340163</td>\n",
       "      <td>1.773209</td>\n",
       "      <td>0.379780</td>\n",
       "      <td>-0.503198</td>\n",
       "      <td>1.800499</td>\n",
       "      <td>0.791461</td>\n",
       "      <td>0.247676</td>\n",
       "      <td>-1.514654</td>\n",
       "      <td>...</td>\n",
       "      <td>0.247998</td>\n",
       "      <td>0.771679</td>\n",
       "      <td>0.909412</td>\n",
       "      <td>-0.689281</td>\n",
       "      <td>-0.327642</td>\n",
       "      <td>-0.139097</td>\n",
       "      <td>-0.055353</td>\n",
       "      <td>-0.059752</td>\n",
       "      <td>378.66</td>\n",
       "      <td>0</td>\n",
       "    </tr>\n",
       "    <tr>\n",
       "      <th>3</th>\n",
       "      <td>1.0</td>\n",
       "      <td>-0.966272</td>\n",
       "      <td>-0.185226</td>\n",
       "      <td>1.792993</td>\n",
       "      <td>-0.863291</td>\n",
       "      <td>-0.010309</td>\n",
       "      <td>1.247203</td>\n",
       "      <td>0.237609</td>\n",
       "      <td>0.377436</td>\n",
       "      <td>-1.387024</td>\n",
       "      <td>...</td>\n",
       "      <td>-0.108300</td>\n",
       "      <td>0.005274</td>\n",
       "      <td>-0.190321</td>\n",
       "      <td>-1.175575</td>\n",
       "      <td>0.647376</td>\n",
       "      <td>-0.221929</td>\n",
       "      <td>0.062723</td>\n",
       "      <td>0.061458</td>\n",
       "      <td>123.50</td>\n",
       "      <td>0</td>\n",
       "    </tr>\n",
       "    <tr>\n",
       "      <th>4</th>\n",
       "      <td>2.0</td>\n",
       "      <td>-1.158233</td>\n",
       "      <td>0.877737</td>\n",
       "      <td>1.548718</td>\n",
       "      <td>0.403034</td>\n",
       "      <td>-0.407193</td>\n",
       "      <td>0.095921</td>\n",
       "      <td>0.592941</td>\n",
       "      <td>-0.270533</td>\n",
       "      <td>0.817739</td>\n",
       "      <td>...</td>\n",
       "      <td>-0.009431</td>\n",
       "      <td>0.798278</td>\n",
       "      <td>-0.137458</td>\n",
       "      <td>0.141267</td>\n",
       "      <td>-0.206010</td>\n",
       "      <td>0.502292</td>\n",
       "      <td>0.219422</td>\n",
       "      <td>0.215153</td>\n",
       "      <td>69.99</td>\n",
       "      <td>0</td>\n",
       "    </tr>\n",
       "  </tbody>\n",
       "</table>\n",
       "<p>5 rows × 31 columns</p>\n",
       "</div>"
      ],
      "text/plain": [
       "   Time        V1        V2        V3        V4        V5        V6        V7  \\\n",
       "0   0.0 -1.359807 -0.072781  2.536347  1.378155 -0.338321  0.462388  0.239599   \n",
       "1   0.0  1.191857  0.266151  0.166480  0.448154  0.060018 -0.082361 -0.078803   \n",
       "2   1.0 -1.358354 -1.340163  1.773209  0.379780 -0.503198  1.800499  0.791461   \n",
       "3   1.0 -0.966272 -0.185226  1.792993 -0.863291 -0.010309  1.247203  0.237609   \n",
       "4   2.0 -1.158233  0.877737  1.548718  0.403034 -0.407193  0.095921  0.592941   \n",
       "\n",
       "         V8        V9  ...       V21       V22       V23       V24       V25  \\\n",
       "0  0.098698  0.363787  ... -0.018307  0.277838 -0.110474  0.066928  0.128539   \n",
       "1  0.085102 -0.255425  ... -0.225775 -0.638672  0.101288 -0.339846  0.167170   \n",
       "2  0.247676 -1.514654  ...  0.247998  0.771679  0.909412 -0.689281 -0.327642   \n",
       "3  0.377436 -1.387024  ... -0.108300  0.005274 -0.190321 -1.175575  0.647376   \n",
       "4 -0.270533  0.817739  ... -0.009431  0.798278 -0.137458  0.141267 -0.206010   \n",
       "\n",
       "        V26       V27       V28  Amount  Class  \n",
       "0 -0.189115  0.133558 -0.021053  149.62      0  \n",
       "1  0.125895 -0.008983  0.014724    2.69      0  \n",
       "2 -0.139097 -0.055353 -0.059752  378.66      0  \n",
       "3 -0.221929  0.062723  0.061458  123.50      0  \n",
       "4  0.502292  0.219422  0.215153   69.99      0  \n",
       "\n",
       "[5 rows x 31 columns]"
      ]
     },
     "execution_count": 7,
     "metadata": {},
     "output_type": "execute_result"
    }
   ],
   "source": [
    "df.head()"
   ]
  },
  {
   "cell_type": "code",
   "execution_count": 8,
   "metadata": {},
   "outputs": [
    {
     "data": {
      "text/html": [
       "<div>\n",
       "<style scoped>\n",
       "    .dataframe tbody tr th:only-of-type {\n",
       "        vertical-align: middle;\n",
       "    }\n",
       "\n",
       "    .dataframe tbody tr th {\n",
       "        vertical-align: top;\n",
       "    }\n",
       "\n",
       "    .dataframe thead th {\n",
       "        text-align: right;\n",
       "    }\n",
       "</style>\n",
       "<table border=\"1\" class=\"dataframe\">\n",
       "  <thead>\n",
       "    <tr style=\"text-align: right;\">\n",
       "      <th></th>\n",
       "      <th>count</th>\n",
       "      <th>mean</th>\n",
       "      <th>std</th>\n",
       "      <th>min</th>\n",
       "      <th>25%</th>\n",
       "      <th>50%</th>\n",
       "      <th>75%</th>\n",
       "      <th>max</th>\n",
       "    </tr>\n",
       "  </thead>\n",
       "  <tbody>\n",
       "    <tr>\n",
       "      <th>Time</th>\n",
       "      <td>283726.0</td>\n",
       "      <td>94811.077600</td>\n",
       "      <td>47481.047891</td>\n",
       "      <td>0.000000</td>\n",
       "      <td>54204.750000</td>\n",
       "      <td>84692.500000</td>\n",
       "      <td>139298.000000</td>\n",
       "      <td>172792.000000</td>\n",
       "    </tr>\n",
       "    <tr>\n",
       "      <th>V1</th>\n",
       "      <td>283726.0</td>\n",
       "      <td>0.005917</td>\n",
       "      <td>1.948026</td>\n",
       "      <td>-56.407510</td>\n",
       "      <td>-0.915951</td>\n",
       "      <td>0.020384</td>\n",
       "      <td>1.316068</td>\n",
       "      <td>2.454930</td>\n",
       "    </tr>\n",
       "    <tr>\n",
       "      <th>V2</th>\n",
       "      <td>283726.0</td>\n",
       "      <td>-0.004135</td>\n",
       "      <td>1.646703</td>\n",
       "      <td>-72.715728</td>\n",
       "      <td>-0.600321</td>\n",
       "      <td>0.063949</td>\n",
       "      <td>0.800283</td>\n",
       "      <td>22.057729</td>\n",
       "    </tr>\n",
       "    <tr>\n",
       "      <th>V3</th>\n",
       "      <td>283726.0</td>\n",
       "      <td>0.001613</td>\n",
       "      <td>1.508682</td>\n",
       "      <td>-48.325589</td>\n",
       "      <td>-0.889682</td>\n",
       "      <td>0.179963</td>\n",
       "      <td>1.026960</td>\n",
       "      <td>9.382558</td>\n",
       "    </tr>\n",
       "    <tr>\n",
       "      <th>V4</th>\n",
       "      <td>283726.0</td>\n",
       "      <td>-0.002966</td>\n",
       "      <td>1.414184</td>\n",
       "      <td>-5.683171</td>\n",
       "      <td>-0.850134</td>\n",
       "      <td>-0.022248</td>\n",
       "      <td>0.739647</td>\n",
       "      <td>16.875344</td>\n",
       "    </tr>\n",
       "    <tr>\n",
       "      <th>V5</th>\n",
       "      <td>283726.0</td>\n",
       "      <td>0.001828</td>\n",
       "      <td>1.377008</td>\n",
       "      <td>-113.743307</td>\n",
       "      <td>-0.689830</td>\n",
       "      <td>-0.053468</td>\n",
       "      <td>0.612218</td>\n",
       "      <td>34.801666</td>\n",
       "    </tr>\n",
       "    <tr>\n",
       "      <th>V6</th>\n",
       "      <td>283726.0</td>\n",
       "      <td>-0.001139</td>\n",
       "      <td>1.331931</td>\n",
       "      <td>-26.160506</td>\n",
       "      <td>-0.769031</td>\n",
       "      <td>-0.275168</td>\n",
       "      <td>0.396792</td>\n",
       "      <td>73.301626</td>\n",
       "    </tr>\n",
       "    <tr>\n",
       "      <th>V7</th>\n",
       "      <td>283726.0</td>\n",
       "      <td>0.001801</td>\n",
       "      <td>1.227664</td>\n",
       "      <td>-43.557242</td>\n",
       "      <td>-0.552509</td>\n",
       "      <td>0.040859</td>\n",
       "      <td>0.570474</td>\n",
       "      <td>120.589494</td>\n",
       "    </tr>\n",
       "    <tr>\n",
       "      <th>V8</th>\n",
       "      <td>283726.0</td>\n",
       "      <td>-0.000854</td>\n",
       "      <td>1.179054</td>\n",
       "      <td>-73.216718</td>\n",
       "      <td>-0.208828</td>\n",
       "      <td>0.021898</td>\n",
       "      <td>0.325704</td>\n",
       "      <td>20.007208</td>\n",
       "    </tr>\n",
       "    <tr>\n",
       "      <th>V9</th>\n",
       "      <td>283726.0</td>\n",
       "      <td>-0.001596</td>\n",
       "      <td>1.095492</td>\n",
       "      <td>-13.434066</td>\n",
       "      <td>-0.644221</td>\n",
       "      <td>-0.052596</td>\n",
       "      <td>0.595977</td>\n",
       "      <td>15.594995</td>\n",
       "    </tr>\n",
       "    <tr>\n",
       "      <th>V10</th>\n",
       "      <td>283726.0</td>\n",
       "      <td>-0.001441</td>\n",
       "      <td>1.076407</td>\n",
       "      <td>-24.588262</td>\n",
       "      <td>-0.535578</td>\n",
       "      <td>-0.093237</td>\n",
       "      <td>0.453619</td>\n",
       "      <td>23.745136</td>\n",
       "    </tr>\n",
       "    <tr>\n",
       "      <th>V11</th>\n",
       "      <td>283726.0</td>\n",
       "      <td>0.000202</td>\n",
       "      <td>1.018720</td>\n",
       "      <td>-4.797473</td>\n",
       "      <td>-0.761649</td>\n",
       "      <td>-0.032306</td>\n",
       "      <td>0.739579</td>\n",
       "      <td>12.018913</td>\n",
       "    </tr>\n",
       "    <tr>\n",
       "      <th>V12</th>\n",
       "      <td>283726.0</td>\n",
       "      <td>-0.000715</td>\n",
       "      <td>0.994674</td>\n",
       "      <td>-18.683715</td>\n",
       "      <td>-0.406198</td>\n",
       "      <td>0.139072</td>\n",
       "      <td>0.616976</td>\n",
       "      <td>7.848392</td>\n",
       "    </tr>\n",
       "    <tr>\n",
       "      <th>V13</th>\n",
       "      <td>283726.0</td>\n",
       "      <td>0.000603</td>\n",
       "      <td>0.995430</td>\n",
       "      <td>-5.791881</td>\n",
       "      <td>-0.647862</td>\n",
       "      <td>-0.012927</td>\n",
       "      <td>0.663178</td>\n",
       "      <td>7.126883</td>\n",
       "    </tr>\n",
       "    <tr>\n",
       "      <th>V14</th>\n",
       "      <td>283726.0</td>\n",
       "      <td>0.000252</td>\n",
       "      <td>0.952215</td>\n",
       "      <td>-19.214325</td>\n",
       "      <td>-0.425732</td>\n",
       "      <td>0.050209</td>\n",
       "      <td>0.492336</td>\n",
       "      <td>10.526766</td>\n",
       "    </tr>\n",
       "    <tr>\n",
       "      <th>V15</th>\n",
       "      <td>283726.0</td>\n",
       "      <td>0.001043</td>\n",
       "      <td>0.914894</td>\n",
       "      <td>-4.498945</td>\n",
       "      <td>-0.581452</td>\n",
       "      <td>0.049299</td>\n",
       "      <td>0.650104</td>\n",
       "      <td>8.877742</td>\n",
       "    </tr>\n",
       "    <tr>\n",
       "      <th>V16</th>\n",
       "      <td>283726.0</td>\n",
       "      <td>0.001162</td>\n",
       "      <td>0.873696</td>\n",
       "      <td>-14.129855</td>\n",
       "      <td>-0.466860</td>\n",
       "      <td>0.067119</td>\n",
       "      <td>0.523512</td>\n",
       "      <td>17.315112</td>\n",
       "    </tr>\n",
       "    <tr>\n",
       "      <th>V17</th>\n",
       "      <td>283726.0</td>\n",
       "      <td>0.000170</td>\n",
       "      <td>0.842507</td>\n",
       "      <td>-25.162799</td>\n",
       "      <td>-0.483928</td>\n",
       "      <td>-0.065867</td>\n",
       "      <td>0.398972</td>\n",
       "      <td>9.253526</td>\n",
       "    </tr>\n",
       "    <tr>\n",
       "      <th>V18</th>\n",
       "      <td>283726.0</td>\n",
       "      <td>0.001515</td>\n",
       "      <td>0.837378</td>\n",
       "      <td>-9.498746</td>\n",
       "      <td>-0.498014</td>\n",
       "      <td>-0.002142</td>\n",
       "      <td>0.501956</td>\n",
       "      <td>5.041069</td>\n",
       "    </tr>\n",
       "    <tr>\n",
       "      <th>V19</th>\n",
       "      <td>283726.0</td>\n",
       "      <td>-0.000264</td>\n",
       "      <td>0.813379</td>\n",
       "      <td>-7.213527</td>\n",
       "      <td>-0.456289</td>\n",
       "      <td>0.003367</td>\n",
       "      <td>0.458508</td>\n",
       "      <td>5.591971</td>\n",
       "    </tr>\n",
       "    <tr>\n",
       "      <th>V20</th>\n",
       "      <td>283726.0</td>\n",
       "      <td>0.000187</td>\n",
       "      <td>0.769984</td>\n",
       "      <td>-54.497720</td>\n",
       "      <td>-0.211469</td>\n",
       "      <td>-0.062353</td>\n",
       "      <td>0.133207</td>\n",
       "      <td>39.420904</td>\n",
       "    </tr>\n",
       "    <tr>\n",
       "      <th>V21</th>\n",
       "      <td>283726.0</td>\n",
       "      <td>-0.000371</td>\n",
       "      <td>0.723909</td>\n",
       "      <td>-34.830382</td>\n",
       "      <td>-0.228305</td>\n",
       "      <td>-0.029441</td>\n",
       "      <td>0.186194</td>\n",
       "      <td>27.202839</td>\n",
       "    </tr>\n",
       "    <tr>\n",
       "      <th>V22</th>\n",
       "      <td>283726.0</td>\n",
       "      <td>-0.000015</td>\n",
       "      <td>0.724550</td>\n",
       "      <td>-10.933144</td>\n",
       "      <td>-0.542700</td>\n",
       "      <td>0.006675</td>\n",
       "      <td>0.528245</td>\n",
       "      <td>10.503090</td>\n",
       "    </tr>\n",
       "    <tr>\n",
       "      <th>V23</th>\n",
       "      <td>283726.0</td>\n",
       "      <td>0.000198</td>\n",
       "      <td>0.623702</td>\n",
       "      <td>-44.807735</td>\n",
       "      <td>-0.161703</td>\n",
       "      <td>-0.011159</td>\n",
       "      <td>0.147748</td>\n",
       "      <td>22.528412</td>\n",
       "    </tr>\n",
       "    <tr>\n",
       "      <th>V24</th>\n",
       "      <td>283726.0</td>\n",
       "      <td>0.000214</td>\n",
       "      <td>0.605627</td>\n",
       "      <td>-2.836627</td>\n",
       "      <td>-0.354453</td>\n",
       "      <td>0.041016</td>\n",
       "      <td>0.439738</td>\n",
       "      <td>4.584549</td>\n",
       "    </tr>\n",
       "    <tr>\n",
       "      <th>V25</th>\n",
       "      <td>283726.0</td>\n",
       "      <td>-0.000232</td>\n",
       "      <td>0.521220</td>\n",
       "      <td>-10.295397</td>\n",
       "      <td>-0.317485</td>\n",
       "      <td>0.016278</td>\n",
       "      <td>0.350667</td>\n",
       "      <td>7.519589</td>\n",
       "    </tr>\n",
       "    <tr>\n",
       "      <th>V26</th>\n",
       "      <td>283726.0</td>\n",
       "      <td>0.000149</td>\n",
       "      <td>0.482053</td>\n",
       "      <td>-2.604551</td>\n",
       "      <td>-0.326763</td>\n",
       "      <td>-0.052172</td>\n",
       "      <td>0.240261</td>\n",
       "      <td>3.517346</td>\n",
       "    </tr>\n",
       "    <tr>\n",
       "      <th>V27</th>\n",
       "      <td>283726.0</td>\n",
       "      <td>0.001763</td>\n",
       "      <td>0.395744</td>\n",
       "      <td>-22.565679</td>\n",
       "      <td>-0.070641</td>\n",
       "      <td>0.001479</td>\n",
       "      <td>0.091208</td>\n",
       "      <td>31.612198</td>\n",
       "    </tr>\n",
       "    <tr>\n",
       "      <th>V28</th>\n",
       "      <td>283726.0</td>\n",
       "      <td>0.000547</td>\n",
       "      <td>0.328027</td>\n",
       "      <td>-15.430084</td>\n",
       "      <td>-0.052818</td>\n",
       "      <td>0.011288</td>\n",
       "      <td>0.078276</td>\n",
       "      <td>33.847808</td>\n",
       "    </tr>\n",
       "    <tr>\n",
       "      <th>Amount</th>\n",
       "      <td>283726.0</td>\n",
       "      <td>88.472687</td>\n",
       "      <td>250.399437</td>\n",
       "      <td>0.000000</td>\n",
       "      <td>5.600000</td>\n",
       "      <td>22.000000</td>\n",
       "      <td>77.510000</td>\n",
       "      <td>25691.160000</td>\n",
       "    </tr>\n",
       "    <tr>\n",
       "      <th>Class</th>\n",
       "      <td>283726.0</td>\n",
       "      <td>0.001667</td>\n",
       "      <td>0.040796</td>\n",
       "      <td>0.000000</td>\n",
       "      <td>0.000000</td>\n",
       "      <td>0.000000</td>\n",
       "      <td>0.000000</td>\n",
       "      <td>1.000000</td>\n",
       "    </tr>\n",
       "  </tbody>\n",
       "</table>\n",
       "</div>"
      ],
      "text/plain": [
       "           count          mean           std         min           25%  \\\n",
       "Time    283726.0  94811.077600  47481.047891    0.000000  54204.750000   \n",
       "V1      283726.0      0.005917      1.948026  -56.407510     -0.915951   \n",
       "V2      283726.0     -0.004135      1.646703  -72.715728     -0.600321   \n",
       "V3      283726.0      0.001613      1.508682  -48.325589     -0.889682   \n",
       "V4      283726.0     -0.002966      1.414184   -5.683171     -0.850134   \n",
       "V5      283726.0      0.001828      1.377008 -113.743307     -0.689830   \n",
       "V6      283726.0     -0.001139      1.331931  -26.160506     -0.769031   \n",
       "V7      283726.0      0.001801      1.227664  -43.557242     -0.552509   \n",
       "V8      283726.0     -0.000854      1.179054  -73.216718     -0.208828   \n",
       "V9      283726.0     -0.001596      1.095492  -13.434066     -0.644221   \n",
       "V10     283726.0     -0.001441      1.076407  -24.588262     -0.535578   \n",
       "V11     283726.0      0.000202      1.018720   -4.797473     -0.761649   \n",
       "V12     283726.0     -0.000715      0.994674  -18.683715     -0.406198   \n",
       "V13     283726.0      0.000603      0.995430   -5.791881     -0.647862   \n",
       "V14     283726.0      0.000252      0.952215  -19.214325     -0.425732   \n",
       "V15     283726.0      0.001043      0.914894   -4.498945     -0.581452   \n",
       "V16     283726.0      0.001162      0.873696  -14.129855     -0.466860   \n",
       "V17     283726.0      0.000170      0.842507  -25.162799     -0.483928   \n",
       "V18     283726.0      0.001515      0.837378   -9.498746     -0.498014   \n",
       "V19     283726.0     -0.000264      0.813379   -7.213527     -0.456289   \n",
       "V20     283726.0      0.000187      0.769984  -54.497720     -0.211469   \n",
       "V21     283726.0     -0.000371      0.723909  -34.830382     -0.228305   \n",
       "V22     283726.0     -0.000015      0.724550  -10.933144     -0.542700   \n",
       "V23     283726.0      0.000198      0.623702  -44.807735     -0.161703   \n",
       "V24     283726.0      0.000214      0.605627   -2.836627     -0.354453   \n",
       "V25     283726.0     -0.000232      0.521220  -10.295397     -0.317485   \n",
       "V26     283726.0      0.000149      0.482053   -2.604551     -0.326763   \n",
       "V27     283726.0      0.001763      0.395744  -22.565679     -0.070641   \n",
       "V28     283726.0      0.000547      0.328027  -15.430084     -0.052818   \n",
       "Amount  283726.0     88.472687    250.399437    0.000000      5.600000   \n",
       "Class   283726.0      0.001667      0.040796    0.000000      0.000000   \n",
       "\n",
       "                 50%            75%            max  \n",
       "Time    84692.500000  139298.000000  172792.000000  \n",
       "V1          0.020384       1.316068       2.454930  \n",
       "V2          0.063949       0.800283      22.057729  \n",
       "V3          0.179963       1.026960       9.382558  \n",
       "V4         -0.022248       0.739647      16.875344  \n",
       "V5         -0.053468       0.612218      34.801666  \n",
       "V6         -0.275168       0.396792      73.301626  \n",
       "V7          0.040859       0.570474     120.589494  \n",
       "V8          0.021898       0.325704      20.007208  \n",
       "V9         -0.052596       0.595977      15.594995  \n",
       "V10        -0.093237       0.453619      23.745136  \n",
       "V11        -0.032306       0.739579      12.018913  \n",
       "V12         0.139072       0.616976       7.848392  \n",
       "V13        -0.012927       0.663178       7.126883  \n",
       "V14         0.050209       0.492336      10.526766  \n",
       "V15         0.049299       0.650104       8.877742  \n",
       "V16         0.067119       0.523512      17.315112  \n",
       "V17        -0.065867       0.398972       9.253526  \n",
       "V18        -0.002142       0.501956       5.041069  \n",
       "V19         0.003367       0.458508       5.591971  \n",
       "V20        -0.062353       0.133207      39.420904  \n",
       "V21        -0.029441       0.186194      27.202839  \n",
       "V22         0.006675       0.528245      10.503090  \n",
       "V23        -0.011159       0.147748      22.528412  \n",
       "V24         0.041016       0.439738       4.584549  \n",
       "V25         0.016278       0.350667       7.519589  \n",
       "V26        -0.052172       0.240261       3.517346  \n",
       "V27         0.001479       0.091208      31.612198  \n",
       "V28         0.011288       0.078276      33.847808  \n",
       "Amount     22.000000      77.510000   25691.160000  \n",
       "Class       0.000000       0.000000       1.000000  "
      ]
     },
     "execution_count": 8,
     "metadata": {},
     "output_type": "execute_result"
    }
   ],
   "source": [
    "df.describe().T"
   ]
  },
  {
   "cell_type": "code",
   "execution_count": 9,
   "metadata": {},
   "outputs": [
    {
     "data": {
      "text/plain": [
       "Class\n",
       "0    283253\n",
       "1       473\n",
       "Name: count, dtype: int64"
      ]
     },
     "execution_count": 9,
     "metadata": {},
     "output_type": "execute_result"
    }
   ],
   "source": [
    "df['Class'].value_counts()"
   ]
  },
  {
   "cell_type": "code",
   "execution_count": 10,
   "metadata": {},
   "outputs": [],
   "source": [
    "# creating a fraud frequency time series\n",
    "\n",
    "# dividing the time column into bins and measuring the fraud counts for the respective bins\n",
    "\n",
    "time_bins = np.linspace(min(df['Time']),max(df['Time']), 21)\n",
    "counts = np.zeros(len(time_bins)-1)\n",
    "\n",
    "i = 0\n",
    "_ = df[df['Class'] == 1]['Time']\n",
    "\n",
    "for x in _:\n",
    "\n",
    "    if x > time_bins[i+1]:\n",
    "        i += 1\n",
    "    \n",
    "    counts[i] += 1\n",
    "     \n",
    "fraud_series = pd.DataFrame({'Time': time_bins[1:].round(), 'Fraud cases': counts})"
   ]
  },
  {
   "cell_type": "code",
   "execution_count": 12,
   "metadata": {},
   "outputs": [
    {
     "data": {
      "image/png": "[encoded data removed]",
      "text/plain": [
       "<Figure size 640x480 with 1 Axes>"
      ]
     },
     "metadata": {},
     "output_type": "display_data"
    }
   ],
   "source": [
    "sns.barplot(data=fraud_series, x='Time', y='Fraud cases')\n",
    "plt.title('Fraud case distribution across time')\n",
    "plt.xticks(rotation=90);"
   ]
  },
  {
   "cell_type": "code",
   "execution_count": 13,
   "metadata": {},
   "outputs": [
    {
     "data": {
      "image/png": "[encoded data removed]",
      "text/plain": [
       "<Figure size 640x480 with 1 Axes>"
      ]
     },
     "metadata": {},
     "output_type": "display_data"
    }
   ],
   "source": [
    "sns.scatterplot(data=df[df['Class']==1], x='Time', y='Amount', hue='Class', linewidth=0, palette=['#d16254'])\n",
    "plt.title('Amount vs Time for Fraudulent cases');"
   ]
  },
  {
   "cell_type": "code",
   "execution_count": 14,
   "metadata": {},
   "outputs": [
    {
     "data": {
      "text/plain": [
       "Class\n",
       "0    1783\n",
       "1      25\n",
       "Name: count, dtype: int64"
      ]
     },
     "execution_count": 14,
     "metadata": {},
     "output_type": "execute_result"
    }
   ],
   "source": [
    "df[df['Amount'] == 0]['Class'].value_counts()"
   ]
  },
  {
   "cell_type": "code",
   "execution_count": 15,
   "metadata": {},
   "outputs": [
    {
     "data": {
      "text/plain": [
       "V25       0.003202\n",
       "V15       0.003300\n",
       "V13       0.003897\n",
       "V26       0.004265\n",
       "V22       0.004887\n",
       "Amount    0.005777\n",
       "V23       0.006333\n",
       "V24       0.007210\n",
       "V28       0.009682\n",
       "Time      0.012359\n",
       "V20       0.021486\n",
       "V27       0.021892\n",
       "V21       0.026357\n",
       "V8        0.033068\n",
       "V19       0.033631\n",
       "V6        0.043915\n",
       "V2        0.084624\n",
       "V5        0.087812\n",
       "V9        0.094021\n",
       "V1        0.094486\n",
       "V18       0.105340\n",
       "V4        0.129326\n",
       "V11       0.149067\n",
       "V7        0.172347\n",
       "V3        0.182322\n",
       "V16       0.187186\n",
       "V10       0.206971\n",
       "V12       0.250711\n",
       "V14       0.293375\n",
       "V17       0.313498\n",
       "Name: Class, dtype: float64"
      ]
     },
     "execution_count": 15,
     "metadata": {},
     "output_type": "execute_result"
    }
   ],
   "source": [
    "df.corr()['Class'][:-1].abs().sort_values()"
   ]
  },
  {
   "cell_type": "code",
   "execution_count": 16,
   "metadata": {},
   "outputs": [
    {
     "data": {
      "image/png": "[encoded data removed]",
      "text/plain": [
       "<Figure size 640x480 with 1 Axes>"
      ]
     },
     "metadata": {},
     "output_type": "display_data"
    }
   ],
   "source": [
    "df.corr()['Class'][:-1].sort_values().plot(kind='bar')\n",
    "plt.title('Correlation between \\'Class\\' and the features');"
   ]
  },
  {
   "cell_type": "markdown",
   "metadata": {},
   "source": [
    "### Data preparation"
   ]
  },
  {
   "cell_type": "code",
   "execution_count": 17,
   "metadata": {},
   "outputs": [],
   "source": [
    "X = df.iloc[:,1:-1]\n",
    "y = df['Class']"
   ]
  },
  {
   "cell_type": "code",
   "execution_count": 18,
   "metadata": {},
   "outputs": [],
   "source": [
    "from sklearn.model_selection import train_test_split\n",
    "\n",
    "X_train, X_test, y_train, y_test = train_test_split(X, y, test_size=0.15, random_state=42, stratify=y)"
   ]
  },
  {
   "cell_type": "code",
   "execution_count": 19,
   "metadata": {},
   "outputs": [],
   "source": [
    "from sklearn.preprocessing import StandardScaler\n",
    "\n",
    "scaler = StandardScaler()\n",
    "\n",
    "scaled_X_train = scaler.fit_transform(X_train)\n",
    "scaled_X_test = scaler.transform(X_test)"
   ]
  },
  {
   "cell_type": "markdown",
   "metadata": {},
   "source": [
    "### Logistic regression"
   ]
  },
  {
   "cell_type": "code",
   "execution_count": 21,
   "metadata": {},
   "outputs": [],
   "source": [
    "from sklearn.linear_model import LogisticRegression\n",
    "\n",
    "# log_model = LogisticRegression()"
   ]
  },
  {
   "cell_type": "code",
   "execution_count": 94,
   "metadata": {},
   "outputs": [],
   "source": [
    "# param_grid = {'penalty': ['elasticnet'],\n",
    "#               'C': np.linspace(0.4,0.6,5),\n",
    "#               'class_weight': ['balanced'],\n",
    "#               'solver': ['saga'],\n",
    "#               'l1_ratio': np.linspace(0.25,0.26,4)}"
   ]
  },
  {
   "cell_type": "code",
   "execution_count": 95,
   "metadata": {},
   "outputs": [
    {
     "data": {
      "text/html": [
       "<style>#sk-container-id-4 {color: black;}#sk-container-id-4 pre{padding: 0;}#sk-container-id-4 div.sk-toggleable {background-color: white;}#sk-container-id-4 label.sk-toggleable__label {cursor: pointer;display: block;width: 100%;margin-bottom: 0;padding: 0.3em;box-sizing: border-box;text-align: center;}#sk-container-id-4 label.sk-toggleable__label-arrow:before {content: \"▸\";float: left;margin-right: 0.25em;color: #696969;}#sk-container-id-4 label.sk-toggleable__label-arrow:hover:before {color: black;}#sk-container-id-4 div.sk-estimator:hover label.sk-toggleable__label-arrow:before {color: black;}#sk-container-id-4 div.sk-toggleable__content {max-height: 0;max-width: 0;overflow: hidden;text-align: left;background-color: #f0f8ff;}#sk-container-id-4 div.sk-toggleable__content pre {margin: 0.2em;color: black;border-radius: 0.25em;background-color: #f0f8ff;}#sk-container-id-4 input.sk-toggleable__control:checked~div.sk-toggleable__content {max-height: 200px;max-width: 100%;overflow: auto;}#sk-container-id-4 input.sk-toggleable__control:checked~label.sk-toggleable__label-arrow:before {content: \"▾\";}#sk-container-id-4 div.sk-estimator input.sk-toggleable__control:checked~label.sk-toggleable__label {background-color: #d4ebff;}#sk-container-id-4 div.sk-label input.sk-toggleable__control:checked~label.sk-toggleable__label {background-color: #d4ebff;}#sk-container-id-4 input.sk-hidden--visually {border: 0;clip: rect(1px 1px 1px 1px);clip: rect(1px, 1px, 1px, 1px);height: 1px;margin: -1px;overflow: hidden;padding: 0;position: absolute;width: 1px;}#sk-container-id-4 div.sk-estimator {font-family: monospace;background-color: #f0f8ff;border: 1px dotted black;border-radius: 0.25em;box-sizing: border-box;margin-bottom: 0.5em;}#sk-container-id-4 div.sk-estimator:hover {background-color: #d4ebff;}#sk-container-id-4 div.sk-parallel-item::after {content: \"\";width: 100%;border-bottom: 1px solid gray;flex-grow: 1;}#sk-container-id-4 div.sk-label:hover label.sk-toggleable__label {background-color: #d4ebff;}#sk-container-id-4 div.sk-serial::before {content: \"\";position: absolute;border-left: 1px solid gray;box-sizing: border-box;top: 0;bottom: 0;left: 50%;z-index: 0;}#sk-container-id-4 div.sk-serial {display: flex;flex-direction: column;align-items: center;background-color: white;padding-right: 0.2em;padding-left: 0.2em;position: relative;}#sk-container-id-4 div.sk-item {position: relative;z-index: 1;}#sk-container-id-4 div.sk-parallel {display: flex;align-items: stretch;justify-content: center;background-color: white;position: relative;}#sk-container-id-4 div.sk-item::before, #sk-container-id-4 div.sk-parallel-item::before {content: \"\";position: absolute;border-left: 1px solid gray;box-sizing: border-box;top: 0;bottom: 0;left: 50%;z-index: -1;}#sk-container-id-4 div.sk-parallel-item {display: flex;flex-direction: column;z-index: 1;position: relative;background-color: white;}#sk-container-id-4 div.sk-parallel-item:first-child::after {align-self: flex-end;width: 50%;}#sk-container-id-4 div.sk-parallel-item:last-child::after {align-self: flex-start;width: 50%;}#sk-container-id-4 div.sk-parallel-item:only-child::after {width: 0;}#sk-container-id-4 div.sk-dashed-wrapped {border: 1px dashed gray;margin: 0 0.4em 0.5em 0.4em;box-sizing: border-box;padding-bottom: 0.4em;background-color: white;}#sk-container-id-4 div.sk-label label {font-family: monospace;font-weight: bold;display: inline-block;line-height: 1.2em;}#sk-container-id-4 div.sk-label-container {text-align: center;}#sk-container-id-4 div.sk-container {/* jupyter's `normalize.less` sets `[hidden] { display: none; }` but bootstrap.min.css set `[hidden] { display: none !important; }` so we also need the `!important` here to be able to override the default hidden behavior on the sphinx rendered scikit-learn.org. See: https://github.com/scikit-learn/scikit-learn/issues/21755 */display: inline-block !important;position: relative;}#sk-container-id-4 div.sk-text-repr-fallback {display: none;}</style><div id=\"sk-container-id-4\" class=\"sk-top-container\"><div class=\"sk-text-repr-fallback\"><pre>GridSearchCV(estimator=LogisticRegression(),\n",
       "             param_grid={&#x27;C&#x27;: array([0.4 , 0.45, 0.5 , 0.55, 0.6 ]),\n",
       "                         &#x27;class_weight&#x27;: [&#x27;balanced&#x27;],\n",
       "                         &#x27;l1_ratio&#x27;: array([0.25      , 0.25333333, 0.25666667, 0.26      ]),\n",
       "                         &#x27;penalty&#x27;: [&#x27;elasticnet&#x27;], &#x27;solver&#x27;: [&#x27;saga&#x27;]})</pre><b>In a Jupyter environment, please rerun this cell to show the HTML representation or trust the notebook. <br />On GitHub, the HTML representation is unable to render, please try loading this page with nbviewer.org.</b></div><div class=\"sk-container\" hidden><div class=\"sk-item sk-dashed-wrapped\"><div class=\"sk-label-container\"><div class=\"sk-label sk-toggleable\"><input class=\"sk-toggleable__control sk-hidden--visually\" id=\"sk-estimator-id-10\" type=\"checkbox\" ><label for=\"sk-estimator-id-10\" class=\"sk-toggleable__label sk-toggleable__label-arrow\">GridSearchCV</label><div class=\"sk-toggleable__content\"><pre>GridSearchCV(estimator=LogisticRegression(),\n",
       "             param_grid={&#x27;C&#x27;: array([0.4 , 0.45, 0.5 , 0.55, 0.6 ]),\n",
       "                         &#x27;class_weight&#x27;: [&#x27;balanced&#x27;],\n",
       "                         &#x27;l1_ratio&#x27;: array([0.25      , 0.25333333, 0.25666667, 0.26      ]),\n",
       "                         &#x27;penalty&#x27;: [&#x27;elasticnet&#x27;], &#x27;solver&#x27;: [&#x27;saga&#x27;]})</pre></div></div></div><div class=\"sk-parallel\"><div class=\"sk-parallel-item\"><div class=\"sk-item\"><div class=\"sk-label-container\"><div class=\"sk-label sk-toggleable\"><input class=\"sk-toggleable__control sk-hidden--visually\" id=\"sk-estimator-id-11\" type=\"checkbox\" ><label for=\"sk-estimator-id-11\" class=\"sk-toggleable__label sk-toggleable__label-arrow\">estimator: LogisticRegression</label><div class=\"sk-toggleable__content\"><pre>LogisticRegression()</pre></div></div></div><div class=\"sk-serial\"><div class=\"sk-item\"><div class=\"sk-estimator sk-toggleable\"><input class=\"sk-toggleable__control sk-hidden--visually\" id=\"sk-estimator-id-12\" type=\"checkbox\" ><label for=\"sk-estimator-id-12\" class=\"sk-toggleable__label sk-toggleable__label-arrow\">LogisticRegression</label><div class=\"sk-toggleable__content\"><pre>LogisticRegression()</pre></div></div></div></div></div></div></div></div></div></div>"
      ],
      "text/plain": [
       "GridSearchCV(estimator=LogisticRegression(),\n",
       "             param_grid={'C': array([0.4 , 0.45, 0.5 , 0.55, 0.6 ]),\n",
       "                         'class_weight': ['balanced'],\n",
       "                         'l1_ratio': array([0.25      , 0.25333333, 0.25666667, 0.26      ]),\n",
       "                         'penalty': ['elasticnet'], 'solver': ['saga']})"
      ]
     },
     "execution_count": 95,
     "metadata": {},
     "output_type": "execute_result"
    }
   ],
   "source": [
    "# grid = GridSearchCV(log_model, param_grid)\n",
    "\n",
    "# grid.fit(scaled_X_train, y_train)"
   ]
  },
  {
   "cell_type": "code",
   "execution_count": 97,
   "metadata": {},
   "outputs": [
    {
     "data": {
      "text/plain": [
       "{'C': 0.6,\n",
       " 'class_weight': 'balanced',\n",
       " 'l1_ratio': 0.25333333333333335,\n",
       " 'penalty': 'elasticnet',\n",
       " 'solver': 'saga'}"
      ]
     },
     "execution_count": 97,
     "metadata": {},
     "output_type": "execute_result"
    }
   ],
   "source": [
    "# grid.best_params_"
   ]
  },
  {
   "cell_type": "code",
   "execution_count": 23,
   "metadata": {},
   "outputs": [],
   "source": [
    "log_model = LogisticRegression(penalty='elasticnet',\n",
    "                               class_weight='balanced',\n",
    "                               C=0.6,\n",
    "                               l1_ratio=0.253333,\n",
    "                               solver='saga')"
   ]
  },
  {
   "cell_type": "code",
   "execution_count": 24,
   "metadata": {},
   "outputs": [
    {
     "data": {
      "text/html": [
       "<style>#sk-container-id-1 {color: black;}#sk-container-id-1 pre{padding: 0;}#sk-container-id-1 div.sk-toggleable {background-color: white;}#sk-container-id-1 label.sk-toggleable__label {cursor: pointer;display: block;width: 100%;margin-bottom: 0;padding: 0.3em;box-sizing: border-box;text-align: center;}#sk-container-id-1 label.sk-toggleable__label-arrow:before {content: \"▸\";float: left;margin-right: 0.25em;color: #696969;}#sk-container-id-1 label.sk-toggleable__label-arrow:hover:before {color: black;}#sk-container-id-1 div.sk-estimator:hover label.sk-toggleable__label-arrow:before {color: black;}#sk-container-id-1 div.sk-toggleable__content {max-height: 0;max-width: 0;overflow: hidden;text-align: left;background-color: #f0f8ff;}#sk-container-id-1 div.sk-toggleable__content pre {margin: 0.2em;color: black;border-radius: 0.25em;background-color: #f0f8ff;}#sk-container-id-1 input.sk-toggleable__control:checked~div.sk-toggleable__content {max-height: 200px;max-width: 100%;overflow: auto;}#sk-container-id-1 input.sk-toggleable__control:checked~label.sk-toggleable__label-arrow:before {content: \"▾\";}#sk-container-id-1 div.sk-estimator input.sk-toggleable__control:checked~label.sk-toggleable__label {background-color: #d4ebff;}#sk-container-id-1 div.sk-label input.sk-toggleable__control:checked~label.sk-toggleable__label {background-color: #d4ebff;}#sk-container-id-1 input.sk-hidden--visually {border: 0;clip: rect(1px 1px 1px 1px);clip: rect(1px, 1px, 1px, 1px);height: 1px;margin: -1px;overflow: hidden;padding: 0;position: absolute;width: 1px;}#sk-container-id-1 div.sk-estimator {font-family: monospace;background-color: #f0f8ff;border: 1px dotted black;border-radius: 0.25em;box-sizing: border-box;margin-bottom: 0.5em;}#sk-container-id-1 div.sk-estimator:hover {background-color: #d4ebff;}#sk-container-id-1 div.sk-parallel-item::after {content: \"\";width: 100%;border-bottom: 1px solid gray;flex-grow: 1;}#sk-container-id-1 div.sk-label:hover label.sk-toggleable__label {background-color: #d4ebff;}#sk-container-id-1 div.sk-serial::before {content: \"\";position: absolute;border-left: 1px solid gray;box-sizing: border-box;top: 0;bottom: 0;left: 50%;z-index: 0;}#sk-container-id-1 div.sk-serial {display: flex;flex-direction: column;align-items: center;background-color: white;padding-right: 0.2em;padding-left: 0.2em;position: relative;}#sk-container-id-1 div.sk-item {position: relative;z-index: 1;}#sk-container-id-1 div.sk-parallel {display: flex;align-items: stretch;justify-content: center;background-color: white;position: relative;}#sk-container-id-1 div.sk-item::before, #sk-container-id-1 div.sk-parallel-item::before {content: \"\";position: absolute;border-left: 1px solid gray;box-sizing: border-box;top: 0;bottom: 0;left: 50%;z-index: -1;}#sk-container-id-1 div.sk-parallel-item {display: flex;flex-direction: column;z-index: 1;position: relative;background-color: white;}#sk-container-id-1 div.sk-parallel-item:first-child::after {align-self: flex-end;width: 50%;}#sk-container-id-1 div.sk-parallel-item:last-child::after {align-self: flex-start;width: 50%;}#sk-container-id-1 div.sk-parallel-item:only-child::after {width: 0;}#sk-container-id-1 div.sk-dashed-wrapped {border: 1px dashed gray;margin: 0 0.4em 0.5em 0.4em;box-sizing: border-box;padding-bottom: 0.4em;background-color: white;}#sk-container-id-1 div.sk-label label {font-family: monospace;font-weight: bold;display: inline-block;line-height: 1.2em;}#sk-container-id-1 div.sk-label-container {text-align: center;}#sk-container-id-1 div.sk-container {/* jupyter's `normalize.less` sets `[hidden] { display: none; }` but bootstrap.min.css set `[hidden] { display: none !important; }` so we also need the `!important` here to be able to override the default hidden behavior on the sphinx rendered scikit-learn.org. See: https://github.com/scikit-learn/scikit-learn/issues/21755 */display: inline-block !important;position: relative;}#sk-container-id-1 div.sk-text-repr-fallback {display: none;}</style><div id=\"sk-container-id-1\" class=\"sk-top-container\"><div class=\"sk-text-repr-fallback\"><pre>LogisticRegression(C=0.6, class_weight=&#x27;balanced&#x27;, l1_ratio=0.253333,\n",
       "                   penalty=&#x27;elasticnet&#x27;, solver=&#x27;saga&#x27;)</pre><b>In a Jupyter environment, please rerun this cell to show the HTML representation or trust the notebook. <br />On GitHub, the HTML representation is unable to render, please try loading this page with nbviewer.org.</b></div><div class=\"sk-container\" hidden><div class=\"sk-item\"><div class=\"sk-estimator sk-toggleable\"><input class=\"sk-toggleable__control sk-hidden--visually\" id=\"sk-estimator-id-1\" type=\"checkbox\" checked><label for=\"sk-estimator-id-1\" class=\"sk-toggleable__label sk-toggleable__label-arrow\">LogisticRegression</label><div class=\"sk-toggleable__content\"><pre>LogisticRegression(C=0.6, class_weight=&#x27;balanced&#x27;, l1_ratio=0.253333,\n",
       "                   penalty=&#x27;elasticnet&#x27;, solver=&#x27;saga&#x27;)</pre></div></div></div></div></div>"
      ],
      "text/plain": [
       "LogisticRegression(C=0.6, class_weight='balanced', l1_ratio=0.253333,\n",
       "                   penalty='elasticnet', solver='saga')"
      ]
     },
     "execution_count": 24,
     "metadata": {},
     "output_type": "execute_result"
    }
   ],
   "source": [
    "log_model.fit(scaled_X_train, y_train)"
   ]
  },
  {
   "cell_type": "code",
   "execution_count": 58,
   "metadata": {},
   "outputs": [],
   "source": [
    "# function to display all evaluation metrics\n",
    "# it also returns certain metric scores to compare with other models\n",
    "\n",
    "def metrics(model):\n",
    "\n",
    "    y_pred = model.predict(scaled_X_test)\n",
    "    y_proba = model.predict_proba(scaled_X_test)[:, 1]\n",
    "\n",
    "    print('Confusion Matrix:')\n",
    "    ConfusionMatrixDisplay.from_predictions(y_test, y_pred)\n",
    "    plt.show();\n",
    "\n",
    "    print('Classification report:')\n",
    "    print(classification_report(y_test, y_pred))\n",
    "\n",
    "    roc_auc = roc_auc_score(y_test, y_proba, average='weighted')\n",
    "    avg_precision =average_precision_score(y_test, y_proba, average='weighted')\n",
    "\n",
    "    class_report = classification_report(y_test, y_pred, output_dict=True)\n",
    "    recall = class_report['1']['recall']\n",
    "    f1_score = class_report['1']['f1-score']\n",
    "\n",
    "    print(f'roc_auc_score: {roc_auc.round(2)}')\n",
    "    print(f'average_precision_score: {avg_precision.round(2)}')\n",
    "\n",
    "    return roc_auc.round(2), avg_precision.round(2), round(recall,2), round(f1_score,2)"
   ]
  },
  {
   "cell_type": "code",
   "execution_count": 73,
   "metadata": {},
   "outputs": [
    {
     "name": "stdout",
     "output_type": "stream",
     "text": [
      "Confusion Matrix:\n"
     ]
    },
    {
     "data": {
      "image/png": "[encoded data removed]",
      "text/plain": [
       "<Figure size 640x480 with 2 Axes>"
      ]
     },
     "metadata": {},
     "output_type": "display_data"
    },
    {
     "name": "stdout",
     "output_type": "stream",
     "text": [
      "Classification report:\n",
      "              precision    recall  f1-score   support\n",
      "\n",
      "           0       1.00      0.98      0.99     42488\n",
      "           1       0.06      0.86      0.10        71\n",
      "\n",
      "    accuracy                           0.98     42559\n",
      "   macro avg       0.53      0.92      0.55     42559\n",
      "weighted avg       1.00      0.98      0.99     42559\n",
      "\n",
      "roc_auc_score: 0.97\n",
      "average_precision_score: 0.63\n"
     ]
    }
   ],
   "source": [
    "roc_auc, avg_precision, recall, f1_score = metrics(log_model)\n",
    "eval_df = pd.DataFrame({'model': 'Logistic Regression',\n",
    "                        'roc_auc_score': roc_auc,\n",
    "                        'average_precision_score' :avg_precision,\n",
    "                        'recall': recall,\n",
    "                        'f1_score': f1_score}, index= [0])"
   ]
  },
  {
   "cell_type": "code",
   "execution_count": 74,
   "metadata": {},
   "outputs": [
    {
     "data": {
      "text/html": [
       "<div>\n",
       "<style scoped>\n",
       "    .dataframe tbody tr th:only-of-type {\n",
       "        vertical-align: middle;\n",
       "    }\n",
       "\n",
       "    .dataframe tbody tr th {\n",
       "        vertical-align: top;\n",
       "    }\n",
       "\n",
       "    .dataframe thead th {\n",
       "        text-align: right;\n",
       "    }\n",
       "</style>\n",
       "<table border=\"1\" class=\"dataframe\">\n",
       "  <thead>\n",
       "    <tr style=\"text-align: right;\">\n",
       "      <th></th>\n",
       "      <th>model</th>\n",
       "      <th>roc_auc_score</th>\n",
       "      <th>average_precision_score</th>\n",
       "      <th>recall</th>\n",
       "      <th>f1_score</th>\n",
       "    </tr>\n",
       "  </thead>\n",
       "  <tbody>\n",
       "    <tr>\n",
       "      <th>0</th>\n",
       "      <td>Logistic Regression</td>\n",
       "      <td>0.97</td>\n",
       "      <td>0.63</td>\n",
       "      <td>0.86</td>\n",
       "      <td>0.1</td>\n",
       "    </tr>\n",
       "  </tbody>\n",
       "</table>\n",
       "</div>"
      ],
      "text/plain": [
       "                 model  roc_auc_score  average_precision_score  recall  \\\n",
       "0  Logistic Regression           0.97                     0.63    0.86   \n",
       "\n",
       "   f1_score  \n",
       "0       0.1  "
      ]
     },
     "execution_count": 74,
     "metadata": {},
     "output_type": "execute_result"
    }
   ],
   "source": [
    "eval_df"
   ]
  },
  {
   "cell_type": "markdown",
   "metadata": {},
   "source": [
    "### Random Forests"
   ]
  },
  {
   "cell_type": "code",
   "execution_count": null,
   "metadata": {},
   "outputs": [],
   "source": []
  }
 ],
 "metadata": {
  "kernelspec": {
   "display_name": "Python 3",
   "language": "python",
   "name": "python3"
  },
  "language_info": {
   "codemirror_mode": {
    "name": "ipython",
    "version": 3
   },
   "file_extension": ".py",
   "mimetype": "text/x-python",
   "name": "python",
   "nbconvert_exporter": "python",
   "pygments_lexer": "ipython3",
   "version": "3.11.5"
  }
 },
 "nbformat": 4,
 "nbformat_minor": 2
}
